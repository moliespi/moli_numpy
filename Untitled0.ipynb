{
  "nbformat": 4,
  "nbformat_minor": 0,
  "metadata": {
    "colab": {
      "provenance": [],
      "authorship_tag": "ABX9TyNuG+MVt80nKEJBD6GuDami",
      "include_colab_link": true
    },
    "kernelspec": {
      "name": "python3",
      "display_name": "Python 3"
    },
    "language_info": {
      "name": "python"
    }
  },
  "cells": [
    {
      "cell_type": "markdown",
      "metadata": {
        "id": "view-in-github",
        "colab_type": "text"
      },
      "source": [
        "<a href=\"https://colab.research.google.com/github/moliespi/moli_numpy/blob/main/Untitled0.ipynb\" target=\"_parent\"><img src=\"https://colab.research.google.com/assets/colab-badge.svg\" alt=\"Open In Colab\"/></a>"
      ]
    },
    {
      "cell_type": "code",
      "execution_count": null,
      "metadata": {
        "id": "mGjeHOrmtdSo"
      },
      "outputs": [],
      "source": []
    },
    {
      "cell_type": "markdown",
      "source": [
        "**Numpy, librería de ciencia de datos**"
      ],
      "metadata": {
        "id": "FLanUrfiuA5I"
      }
    },
    {
      "cell_type": "code",
      "source": [
        "import numpy as np\n",
        "#pip(llamar algortimo para instalar numpy) install numpy"
      ],
      "metadata": {
        "id": "C3S_SnmWuhcq"
      },
      "execution_count": null,
      "outputs": []
    },
    {
      "cell_type": "markdown",
      "source": [
        "**ARRAYS DE 1 DIMENSIÓN**"
      ],
      "metadata": {
        "id": "nFGO36xzw3eX"
      }
    },
    {
      "cell_type": "code",
      "source": [
        "array_id=np.array([10,20,30])\n",
        "print(array_id)"
      ],
      "metadata": {
        "colab": {
          "base_uri": "https://localhost:8080/"
        },
        "id": "IpoAxThyvobb",
        "outputId": "9ac33ad5-f617-4c08-d74a-5b50c6e5880f"
      },
      "execution_count": null,
      "outputs": [
        {
          "output_type": "stream",
          "name": "stdout",
          "text": [
            "[10 20 30]\n"
          ]
        }
      ]
    },
    {
      "cell_type": "code",
      "source": [
        "array_id"
      ],
      "metadata": {
        "colab": {
          "base_uri": "https://localhost:8080/"
        },
        "id": "M7VwW9dGwUIN",
        "outputId": "c5fdce5e-e0a3-4ee3-cdfa-62f377b2bfaf"
      },
      "execution_count": null,
      "outputs": [
        {
          "output_type": "execute_result",
          "data": {
            "text/plain": [
              "array([10, 20, 30])"
            ]
          },
          "metadata": {},
          "execution_count": 3
        }
      ]
    },
    {
      "cell_type": "markdown",
      "source": [
        " **Arrays de 2 dimensiones**"
      ],
      "metadata": {
        "id": "0Mx0fbzbwmjZ"
      }
    },
    {
      "cell_type": "code",
      "source": [
        "array_2d=np.array([(10,20,30),(50,60,70)])#los parecntesis dentro ayudan a las dimensiones\n",
        "array_2d"
      ],
      "metadata": {
        "colab": {
          "base_uri": "https://localhost:8080/"
        },
        "id": "ZOC7YcUawc-y",
        "outputId": "1540dff7-da0a-4177-dba1-407787120a48"
      },
      "execution_count": null,
      "outputs": [
        {
          "output_type": "execute_result",
          "data": {
            "text/plain": [
              "array([[10, 20, 30],\n",
              "       [50, 60, 70]])"
            ]
          },
          "metadata": {},
          "execution_count": 4
        }
      ]
    },
    {
      "cell_type": "markdown",
      "source": [
        "**ARRAYS DE 3 DIMENSIONES**"
      ],
      "metadata": {
        "id": "lXfcRM4TxtCL"
      }
    },
    {
      "cell_type": "code",
      "source": [
        "array_3d=np.array([(1,2,3),(4,5,6),(7,8,9)])\n",
        "array_3d"
      ],
      "metadata": {
        "colab": {
          "base_uri": "https://localhost:8080/"
        },
        "id": "s3PAb_jNxy9x",
        "outputId": "2c3b7cce-c17f-4048-bac5-10f7a51fdfe8"
      },
      "execution_count": null,
      "outputs": [
        {
          "output_type": "execute_result",
          "data": {
            "text/plain": [
              "array([[1, 2, 3],\n",
              "       [4, 5, 6],\n",
              "       [7, 8, 9]])"
            ]
          },
          "metadata": {},
          "execution_count": 5
        }
      ]
    },
    {
      "cell_type": "code",
      "source": [
        "array_3d=np.array([(1,2,3),(4,5,6),(7,8,9)], dtype=float) #solo recibir datos numericos decimales\n",
        "array_3d"
      ],
      "metadata": {
        "colab": {
          "base_uri": "https://localhost:8080/"
        },
        "id": "h1j4xnczzCEL",
        "outputId": "c99dd483-bb65-47f5-ffe9-6d5bbc7a0408"
      },
      "execution_count": null,
      "outputs": [
        {
          "output_type": "execute_result",
          "data": {
            "text/plain": [
              "array([[1., 2., 3.],\n",
              "       [4., 5., 6.],\n",
              "       [7., 8., 9.]])"
            ]
          },
          "metadata": {},
          "execution_count": 7
        }
      ]
    },
    {
      "cell_type": "markdown",
      "source": [
        "ARRAY DE CEROS DE 3 FILAS Y 4 COLUMNAS\n"
      ],
      "metadata": {
        "id": "8ApyNIBD4QmQ"
      }
    },
    {
      "cell_type": "code",
      "source": [
        "np.zeros((3,4))"
      ],
      "metadata": {
        "colab": {
          "base_uri": "https://localhost:8080/"
        },
        "id": "dgQCjza_4eOP",
        "outputId": "20b76d73-a555-4fe3-dfe5-3901afc7c0b8"
      },
      "execution_count": null,
      "outputs": [
        {
          "output_type": "execute_result",
          "data": {
            "text/plain": [
              "array([[0., 0., 0., 0.],\n",
              "       [0., 0., 0., 0.],\n",
              "       [0., 0., 0., 0.]])"
            ]
          },
          "metadata": {},
          "execution_count": 8
        }
      ]
    },
    {
      "cell_type": "code",
      "source": [
        "print(np.zeros((4,5)))"
      ],
      "metadata": {
        "colab": {
          "base_uri": "https://localhost:8080/"
        },
        "id": "N7DNi3H74rS0",
        "outputId": "400def68-95b0-451a-a052-b8a4dbcf39f6"
      },
      "execution_count": null,
      "outputs": [
        {
          "output_type": "stream",
          "name": "stdout",
          "text": [
            "[[0. 0. 0. 0. 0.]\n",
            " [0. 0. 0. 0. 0.]\n",
            " [0. 0. 0. 0. 0.]\n",
            " [0. 0. 0. 0. 0.]]\n"
          ]
        }
      ]
    },
    {
      "cell_type": "markdown",
      "source": [
        "**ARRAY DE UNOS CON 2 DIMENSIONES DE 4 FILAS Y 5 COLUMNAS**"
      ],
      "metadata": {
        "id": "orQ2v3404z8j"
      }
    },
    {
      "cell_type": "code",
      "source": [
        "np.ones((2,4,5)) #array de 2 dimensiones, 4 filas y 5 columnas"
      ],
      "metadata": {
        "colab": {
          "base_uri": "https://localhost:8080/"
        },
        "id": "wGRIjU31476T",
        "outputId": "08976c8b-c44a-4581-b33c-e45bf2aaa6d8"
      },
      "execution_count": null,
      "outputs": [
        {
          "output_type": "execute_result",
          "data": {
            "text/plain": [
              "array([[[1., 1., 1., 1., 1.],\n",
              "        [1., 1., 1., 1., 1.],\n",
              "        [1., 1., 1., 1., 1.],\n",
              "        [1., 1., 1., 1., 1.]],\n",
              "\n",
              "       [[1., 1., 1., 1., 1.],\n",
              "        [1., 1., 1., 1., 1.],\n",
              "        [1., 1., 1., 1., 1.],\n",
              "        [1., 1., 1., 1., 1.]]])"
            ]
          },
          "metadata": {},
          "execution_count": 10
        }
      ]
    },
    {
      "cell_type": "markdown",
      "source": [
        "**ARRAYS CON INTERVALOS Y SALTOS**"
      ],
      "metadata": {
        "id": "UmOiDtky5WN6"
      }
    },
    {
      "cell_type": "code",
      "source": [
        "np.arange(11,30,2)#primeros dos numeros, intervalo y los saltos de 2 en 2"
      ],
      "metadata": {
        "colab": {
          "base_uri": "https://localhost:8080/"
        },
        "id": "UMNrFy_k5cK6",
        "outputId": "f3633644-a154-45ef-9f81-980c27ab9c94"
      },
      "execution_count": null,
      "outputs": [
        {
          "output_type": "execute_result",
          "data": {
            "text/plain": [
              "array([11, 13, 15, 17, 19, 21, 23, 25, 27, 29])"
            ]
          },
          "metadata": {},
          "execution_count": 11
        }
      ]
    },
    {
      "cell_type": "code",
      "source": [
        "np.arange(15,30,2)"
      ],
      "metadata": {
        "colab": {
          "base_uri": "https://localhost:8080/"
        },
        "id": "uIdooLhA6APX",
        "outputId": "b7639a2a-4a33-4748-9e8e-8736e2d4d9df"
      },
      "execution_count": null,
      "outputs": [
        {
          "output_type": "execute_result",
          "data": {
            "text/plain": [
              "array([15, 17, 19, 21, 23, 25, 27, 29])"
            ]
          },
          "metadata": {},
          "execution_count": 12
        }
      ]
    },
    {
      "cell_type": "markdown",
      "source": [
        "ARRAY CON INTERVALOS Y DIVISIONES"
      ],
      "metadata": {
        "id": "txVJC6Uz7_8B"
      }
    },
    {
      "cell_type": "code",
      "source": [
        "np.linspace(0,4,7)"
      ],
      "metadata": {
        "colab": {
          "base_uri": "https://localhost:8080/"
        },
        "id": "VlPI3-G98DP5",
        "outputId": "90302da6-0449-4934-feaf-54e02c6dbebd"
      },
      "execution_count": null,
      "outputs": [
        {
          "output_type": "execute_result",
          "data": {
            "text/plain": [
              "array([0.        , 0.66666667, 1.33333333, 2.        , 2.66666667,\n",
              "       3.33333333, 4.        ])"
            ]
          },
          "metadata": {},
          "execution_count": 13
        }
      ]
    },
    {
      "cell_type": "markdown",
      "source": [
        "**ARRAYS CON VALORES DADOS**"
      ],
      "metadata": {
        "id": "YWs2wYGT8lav"
      }
    },
    {
      "cell_type": "code",
      "source": [
        "np.full((3,3),7)"
      ],
      "metadata": {
        "colab": {
          "base_uri": "https://localhost:8080/"
        },
        "id": "7Hp3NQX_8ox_",
        "outputId": "4fcbbf94-2c7d-4b93-a97e-a2dfb52db121"
      },
      "execution_count": null,
      "outputs": [
        {
          "output_type": "execute_result",
          "data": {
            "text/plain": [
              "array([[7, 7, 7],\n",
              "       [7, 7, 7],\n",
              "       [7, 7, 7]])"
            ]
          },
          "metadata": {},
          "execution_count": 14
        }
      ]
    },
    {
      "cell_type": "markdown",
      "source": [
        "**ARRAY CON MATRIZ IDENTIDAD, DIAGONAL DE UNOS**"
      ],
      "metadata": {
        "id": "sffr-iDd878-"
      }
    },
    {
      "cell_type": "code",
      "source": [
        "np.eye(3)"
      ],
      "metadata": {
        "colab": {
          "base_uri": "https://localhost:8080/"
        },
        "id": "WrlKqNWs9CqG",
        "outputId": "789ffd5c-6369-4ecf-c738-fc3c93b8b704"
      },
      "execution_count": null,
      "outputs": [
        {
          "output_type": "execute_result",
          "data": {
            "text/plain": [
              "array([[1., 0., 0.],\n",
              "       [0., 1., 0.],\n",
              "       [0., 0., 1.]])"
            ]
          },
          "metadata": {},
          "execution_count": 15
        }
      ]
    },
    {
      "cell_type": "code",
      "source": [
        "np.eye(7)"
      ],
      "metadata": {
        "colab": {
          "base_uri": "https://localhost:8080/"
        },
        "id": "dqQZ7IW69bw0",
        "outputId": "7b469c99-7078-449d-d996-24ad0433144f"
      },
      "execution_count": null,
      "outputs": [
        {
          "output_type": "execute_result",
          "data": {
            "text/plain": [
              "array([[1., 0., 0., 0., 0., 0., 0.],\n",
              "       [0., 1., 0., 0., 0., 0., 0.],\n",
              "       [0., 0., 1., 0., 0., 0., 0.],\n",
              "       [0., 0., 0., 1., 0., 0., 0.],\n",
              "       [0., 0., 0., 0., 1., 0., 0.],\n",
              "       [0., 0., 0., 0., 0., 1., 0.],\n",
              "       [0., 0., 0., 0., 0., 0., 1.]])"
            ]
          },
          "metadata": {},
          "execution_count": 16
        }
      ]
    },
    {
      "cell_type": "code",
      "source": [
        "np.eye(3)"
      ],
      "metadata": {
        "colab": {
          "base_uri": "https://localhost:8080/"
        },
        "id": "v1CFJcEi9jXV",
        "outputId": "b8e5a521-abd0-4e07-9099-8866bfd36593"
      },
      "execution_count": null,
      "outputs": [
        {
          "output_type": "execute_result",
          "data": {
            "text/plain": [
              "array([[1., 0., 0.],\n",
              "       [0., 1., 0.],\n",
              "       [0., 0., 1.]])"
            ]
          },
          "metadata": {},
          "execution_count": 18
        }
      ]
    },
    {
      "cell_type": "code",
      "source": [
        "np.eye(3,1)"
      ],
      "metadata": {
        "colab": {
          "base_uri": "https://localhost:8080/"
        },
        "id": "rHdjf_pV-T9T",
        "outputId": "c723f978-9de4-448f-e524-a65a916dcfa7"
      },
      "execution_count": null,
      "outputs": [
        {
          "output_type": "execute_result",
          "data": {
            "text/plain": [
              "array([[1.],\n",
              "       [0.],\n",
              "       [0.]])"
            ]
          },
          "metadata": {},
          "execution_count": 21
        }
      ]
    },
    {
      "cell_type": "markdown",
      "source": [
        "**ARRAY VALORES ALEATORIOS 0-1**"
      ],
      "metadata": {
        "id": "j1FJPju8-hdy"
      }
    },
    {
      "cell_type": "code",
      "source": [
        "np.random.random ((4,4))#generar de forma aleatorio los valores"
      ],
      "metadata": {
        "colab": {
          "base_uri": "https://localhost:8080/"
        },
        "id": "yUKd4v2g-oZ5",
        "outputId": "3d916290-d5a7-4e4d-aeeb-3120b9687391"
      },
      "execution_count": null,
      "outputs": [
        {
          "output_type": "execute_result",
          "data": {
            "text/plain": [
              "array([[0.25621904, 0.93051038, 0.37923309, 0.41926762],\n",
              "       [0.9675535 , 0.02088439, 0.38911906, 0.38024554],\n",
              "       [0.62373426, 0.19698954, 0.31906512, 0.01690236],\n",
              "       [0.28562952, 0.61961119, 0.41460572, 0.19032754]])"
            ]
          },
          "metadata": {},
          "execution_count": 27
        }
      ]
    },
    {
      "cell_type": "markdown",
      "source": [
        "**ARRAY DE NUMEROS VACIOS 4*3**"
      ],
      "metadata": {
        "id": "FwZH9Fip_C5a"
      }
    },
    {
      "cell_type": "code",
      "source": [
        "np.empty((4,3))"
      ],
      "metadata": {
        "colab": {
          "base_uri": "https://localhost:8080/"
        },
        "id": "fPd90ouP_Hvo",
        "outputId": "471fc214-e511-4c7b-aabc-17b7d4a82c67"
      },
      "execution_count": null,
      "outputs": [
        {
          "output_type": "execute_result",
          "data": {
            "text/plain": [
              "array([[0., 0., 0.],\n",
              "       [0., 0., 0.],\n",
              "       [0., 0., 0.],\n",
              "       [0., 0., 0.]])"
            ]
          },
          "metadata": {},
          "execution_count": 28
        }
      ]
    },
    {
      "cell_type": "markdown",
      "source": [
        "**GRABAR Y CARGAR**"
      ],
      "metadata": {
        "id": "Gxc0H85FBaZD"
      }
    },
    {
      "cell_type": "code",
      "source": [
        "#Grabar\n",
        "np.save('mi_array_2d',array_2d)"
      ],
      "metadata": {
        "id": "Lx_gTLxzBhOL"
      },
      "execution_count": null,
      "outputs": []
    },
    {
      "cell_type": "code",
      "source": [
        "#Cargar\n",
        "mi_array=np.load('mi_array_2d.npy')\n",
        "mi_array"
      ],
      "metadata": {
        "colab": {
          "base_uri": "https://localhost:8080/"
        },
        "id": "ES89sV0-EKvl",
        "outputId": "822fd84f-c927-4cbc-f65b-579d00c4fd41"
      },
      "execution_count": null,
      "outputs": [
        {
          "output_type": "execute_result",
          "data": {
            "text/plain": [
              "array([[10, 20, 30],\n",
              "       [50, 60, 70]])"
            ]
          },
          "metadata": {},
          "execution_count": 49
        }
      ]
    },
    {
      "cell_type": "markdown",
      "source": [
        "**GRABAR Y CARGAR FICHEROS DE TEXTO**"
      ],
      "metadata": {
        "id": "4jO2B3oxE3Mc"
      }
    },
    {
      "cell_type": "code",
      "source": [
        "#grabar fichero de texto\n",
        "np.savetxt('mi_array.txt',array_2d,delimiter=\" \")"
      ],
      "metadata": {
        "id": "jFfvBNkME9Bc"
      },
      "execution_count": null,
      "outputs": []
    },
    {
      "cell_type": "code",
      "source": [
        "#cargar de fichero de texto\n",
        "np.loadtxt('mi_array.txt')"
      ],
      "metadata": {
        "colab": {
          "base_uri": "https://localhost:8080/"
        },
        "id": "y5ZDcd_jGH3a",
        "outputId": "de66069a-a123-4e45-c099-e91f0678d1db"
      },
      "execution_count": null,
      "outputs": [
        {
          "output_type": "execute_result",
          "data": {
            "text/plain": [
              "array([[10., 20., 30.],\n",
              "       [50., 60., 70.]])"
            ]
          },
          "metadata": {},
          "execution_count": 52
        }
      ]
    },
    {
      "cell_type": "markdown",
      "source": [
        "**EJERCICIOS PROPUESTOS**"
      ],
      "metadata": {
        "id": "jyNAKqMCJUa-"
      }
    },
    {
      "cell_type": "code",
      "source": [
        "#Ejercicio 1:\n",
        "array_cursos=np.array([(\"Matemáticas\"),(\"Física\"),(\"Química\"),(\"Historia\"), (\"Lengua\")])\n",
        "print(\"Tenemos las siguientes asignaturas:\")\n",
        "print(array_cursos)"
      ],
      "metadata": {
        "colab": {
          "base_uri": "https://localhost:8080/"
        },
        "id": "5EzcHGQiJajc",
        "outputId": "b2b5e21d-4e1f-4f6b-bddb-9605c114d7a6"
      },
      "execution_count": null,
      "outputs": [
        {
          "output_type": "stream",
          "name": "stdout",
          "text": [
            "Tenemos las siguientes asignaturas:\n",
            "['Matemáticas' 'Física' 'Química' 'Historia' 'Lengua']\n"
          ]
        }
      ]
    },
    {
      "cell_type": "code",
      "source": [
        "#Ejercicio 2:\n",
        "array_cursos=np.array([(\"Matemáticas\"),(\"Física\"),(\"Química\"),(\"Historia\"), (\"Lengua\")])\n",
        "print(\"Yo estudio\",array_cursos[0])\n",
        "print(\"Yo estudio\",array_cursos[1])\n",
        "print(\"Yo estudio\",array_cursos[2])\n",
        "print(\"Yo estudio\",array_cursos[3])\n",
        "print(\"Yo estudio\",array_cursos[4])"
      ],
      "metadata": {
        "colab": {
          "base_uri": "https://localhost:8080/"
        },
        "id": "D4UkIu6kNTDw",
        "outputId": "5a332e19-8e02-4007-a27a-55e1d7800702"
      },
      "execution_count": null,
      "outputs": [
        {
          "output_type": "stream",
          "name": "stdout",
          "text": [
            "Yo estudio Matemáticas\n",
            "Yo estudio Física\n",
            "Yo estudio Química\n",
            "Yo estudio Historia\n",
            "Yo estudio Lengua\n"
          ]
        }
      ]
    },
    {
      "cell_type": "code",
      "source": [
        "#Ejercicio 3:\n",
        "print(\"CURSOS DICTADOS\")\n",
        "lista_cursos=[\"Matematicas\",\"Fisica\",\"Quimica\",\"Historia\",\"Lengua\"]\n",
        "print(lista_cursos)\n",
        "nota1 = input(\"¿Que nota sacaste en \"+lista_cursos[0]+\"?\")\n",
        "nota2 = input(\"¿Que nota sacaste en \"+lista_cursos[1]+\"?\")\n",
        "nota3 = input(\"¿Que nota sacaste en \"+lista_cursos[2]+\"?\")\n",
        "nota4 = input(\"¿Que nota sacaste en \"+lista_cursos[3]+\"?\")\n",
        "nota5 = input(\"¿Que nota sacaste en \"+lista_cursos[4]+\"?\")\n",
        "print(\"Tu nota en la asignatura de \" + lista_cursos[0]+ \" es \"+nota1)\n",
        "print(\"Tu nota en la asignatura de \" + lista_cursos[1]+ \" es \"+nota2)\n",
        "print(\"Tu nota en la asignatura de \" + lista_cursos[2]+ \" es \"+nota3)\n",
        "print(\"Tu nota en la asignatura de \" + lista_cursos[3]+ \" es \"+nota4)\n",
        "print(\"Tu nota en la asignatura de \" + lista_cursos[4]+ \" es \"+nota5)"
      ],
      "metadata": {
        "colab": {
          "base_uri": "https://localhost:8080/"
        },
        "id": "3EgFaNKEPLwf",
        "outputId": "1f289bbe-a37a-4a3c-a0a6-70e439c46b65"
      },
      "execution_count": null,
      "outputs": [
        {
          "output_type": "stream",
          "name": "stdout",
          "text": [
            "CURSOS DICTADOS\n",
            "['Matematicas', 'Fisica', 'Quimica', 'Historia', 'Lengua']\n",
            "¿Que nota sacaste en Matematicas?20\n",
            "¿Que nota sacaste en Fisica?18\n",
            "¿Que nota sacaste en Quimica?16\n",
            "¿Que nota sacaste en Historia?13\n",
            "¿Que nota sacaste en Lengua?19\n",
            "Tu nota en la asignatura de Matematicas es 20\n",
            "Tu nota en la asignatura de Fisica es 18\n",
            "Tu nota en la asignatura de Quimica es 16\n",
            "Tu nota en la asignatura de Historia es 13\n",
            "Tu nota en la asignatura de Lengua es 19\n"
          ]
        }
      ]
    },
    {
      "cell_type": "code",
      "source": [
        "#Ejercicio 4:\n",
        "print(\"LA LOTERIA SEMANAL\")\n",
        "loteria=[]\n",
        "print(\"Introduce los 6 números\")\n",
        "for i in range(6):\n",
        "  numero= int(input())\n",
        "  loteria.append(numero) #agregar los numeros a la loteria[]\n",
        "loteria.sort() #para ordenar los datos\n",
        "print(\"Los números ordenados son:\",loteria)"
      ],
      "metadata": {
        "colab": {
          "base_uri": "https://localhost:8080/"
        },
        "id": "Wnp0ZM4SSId8",
        "outputId": "64bb33d1-3895-4e64-c55a-29b979d2fc9a"
      },
      "execution_count": null,
      "outputs": [
        {
          "output_type": "stream",
          "name": "stdout",
          "text": [
            "LA LOTERIA SEMANAL\n",
            "Introduce los 6 números\n",
            "18\n",
            "66\n",
            "89\n",
            "34\n",
            "20\n",
            "45\n",
            "Los números ordenados son: [18, 20, 34, 45, 66, 89]\n"
          ]
        }
      ]
    },
    {
      "cell_type": "code",
      "source": [
        "#Ejercicio 5:\n",
        "print(\"Números\")\n",
        "num=[1,2,3,4,5,6,7,8,9,10]\n",
        "num.sort(reverse=True)\n",
        "print(num)"
      ],
      "metadata": {
        "colab": {
          "base_uri": "https://localhost:8080/"
        },
        "id": "5Rgl3ZATXwIH",
        "outputId": "393c1e3d-d549-42ff-e386-7cdf0364e04f"
      },
      "execution_count": null,
      "outputs": [
        {
          "output_type": "stream",
          "name": "stdout",
          "text": [
            "Números\n",
            "[10, 9, 8, 7, 6, 5, 4, 3, 2, 1]\n"
          ]
        }
      ]
    },
    {
      "cell_type": "code",
      "source": [
        "#Ejercicio 5 forma 2:\n",
        "print(\"Números\")\n",
        "num=[]\n",
        "print(\"Introduce los números del 1 al 10\")\n",
        "for i in range(10):\n",
        "  numero=int(input())\n",
        "  num.append(numero)\n",
        "num.sort(reverse=True)\n",
        "print(num)"
      ],
      "metadata": {
        "colab": {
          "base_uri": "https://localhost:8080/"
        },
        "id": "3MgaKWzTYkvm",
        "outputId": "395fdb5b-4c43-49b2-8285-cd73205ddb86"
      },
      "execution_count": null,
      "outputs": [
        {
          "output_type": "stream",
          "name": "stdout",
          "text": [
            "Números\n",
            "Introduce los números del 1 al 10\n",
            "1\n",
            "2\n",
            "3\n",
            "4\n",
            "5\n",
            "6\n",
            "7\n",
            "8\n",
            "9\n",
            "10\n",
            "[10, 9, 8, 7, 6, 5, 4, 3, 2, 1]\n"
          ]
        }
      ]
    },
    {
      "cell_type": "code",
      "source": [
        "#Ejercicio 6:\n",
        "print(\"CURSOS DICTADOS\")\n",
        "lista_cursos=[\"Matematicas\",\"Fisica\",\"Quimica\",\"Historia\",\"Lengua\"]\n",
        "print(lista_cursos)\n",
        "nota=[]\n",
        "for i in range(5):\n",
        "  notas = int(input(\"¿Que nota sacaste en \"+lista_cursos[i]+\"?\"))\n",
        "  nota.append(notas)\n",
        "\n",
        "if any(n < 10 for n in nota):\n",
        "    print(\"Reprobaste la asignatura\"+lista_cursos[i+0])\n",
        "else:\n",
        "    print(\"Genial! todas las materias fueron aprobadas\")"
      ],
      "metadata": {
        "colab": {
          "base_uri": "https://localhost:8080/"
        },
        "id": "OX3J_KPrZbKY",
        "outputId": "5e0716b6-a7f7-4626-ccb5-a1f61cdabef0"
      },
      "execution_count": 11,
      "outputs": [
        {
          "output_type": "stream",
          "name": "stdout",
          "text": [
            "CURSOS DICTADOS\n",
            "['Matematicas', 'Fisica', 'Quimica', 'Historia', 'Lengua']\n",
            "¿Que nota sacaste en Matematicas?4\n",
            "¿Que nota sacaste en Fisica?4\n",
            "¿Que nota sacaste en Quimica?4\n",
            "¿Que nota sacaste en Historia?4\n",
            "¿Que nota sacaste en Lengua?4\n",
            "Reprobaste la asignaturaLengua\n"
          ]
        }
      ]
    }
  ]
}